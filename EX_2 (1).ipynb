{
  "cells": [
    {
      "cell_type": "code",
      "execution_count": 1,
      "metadata": {
        "colab": {
          "base_uri": "https://localhost:8080/"
        },
        "id": "ha6ALEVt_vJs",
        "outputId": "732fec50-1e95-48cf-8bea-bd43196c9d69"
      },
      "outputs": [
        {
          "output_type": "stream",
          "name": "stdout",
          "text": [
            "   Hours  Scores\n",
            "0    2.5      21\n",
            "1    5.1      47\n",
            "2    3.2      27\n",
            "3    8.5      75\n",
            "4    3.5      30\n",
            "    Hours  Scores\n",
            "20    2.7      30\n",
            "21    4.8      54\n",
            "22    3.8      35\n",
            "23    6.9      76\n",
            "24    7.8      86\n"
          ]
        }
      ],
      "source": [
        "import pandas as pd\n",
        "import numpy as np\n",
        "import matplotlib.pyplot as plt\n",
        "\n",
        "#import libraries to find mae, mse\n",
        "from sklearn.metrics import mean_absolute_error,mean_squared_error\n",
        "\n",
        "#read csv file\n",
        "df=pd.read_csv('student_scores.csv')\n",
        "print(df.head())\n",
        "print(df.tail())"
      ]
    },
    {
      "cell_type": "code",
      "execution_count": 3,
      "metadata": {
        "colab": {
          "base_uri": "https://localhost:8080/"
        },
        "id": "jB9xCbqq_vJu",
        "outputId": "d22e431b-2751-4826-d404-95885cf78499"
      },
      "outputs": [
        {
          "output_type": "stream",
          "name": "stdout",
          "text": [
            "[[2.5]\n",
            " [5.1]\n",
            " [3.2]\n",
            " [8.5]\n",
            " [3.5]\n",
            " [1.5]\n",
            " [9.2]\n",
            " [5.5]\n",
            " [8.3]\n",
            " [2.7]\n",
            " [7.7]\n",
            " [5.9]\n",
            " [4.5]\n",
            " [3.3]\n",
            " [1.1]\n",
            " [8.9]\n",
            " [2.5]\n",
            " [1.9]\n",
            " [6.1]\n",
            " [7.4]\n",
            " [2.7]\n",
            " [4.8]\n",
            " [3.8]\n",
            " [6.9]\n",
            " [7.8]]\n",
            "[21 47 27 75 30 20 88 60 81 25 85 62 41 42 17 95 30 24 67 69 30 54 35 76\n",
            " 86]\n"
          ]
        }
      ],
      "source": [
        "# Segregating data to variables\n",
        "x = df.iloc[:,:-1].values\n",
        "print(x)\n",
        "y = df.iloc[:,1].values\n",
        "print(y)"
      ]
    },
    {
      "cell_type": "code",
      "execution_count": 4,
      "metadata": {
        "id": "PNyKyG9V_vJv"
      },
      "outputs": [],
      "source": [
        "#splitting train and test data\n",
        "from sklearn.model_selection import train_test_split\n",
        "x_train,x_test,y_train,y_test=train_test_split(x,y,test_size=1/3,random_state=0)"
      ]
    },
    {
      "cell_type": "code",
      "execution_count": 5,
      "metadata": {
        "id": "W50VbKmI_vJw"
      },
      "outputs": [],
      "source": [
        "#import linear regression model and fit the model with the data\n",
        "from sklearn.linear_model import LinearRegression\n",
        "regressor = LinearRegression()\n",
        "regressor.fit(x_train,y_train)\n",
        "y_pred = regressor.predict(x_test)"
      ]
    },
    {
      "cell_type": "code",
      "execution_count": 11,
      "metadata": {
        "colab": {
          "base_uri": "https://localhost:8080/"
        },
        "id": "vHUOsqAD_vJw",
        "outputId": "0cea3b92-1fd3-4dd9-fe00-7f7139b9de1a"
      },
      "outputs": [
        {
          "output_type": "stream",
          "name": "stdout",
          "text": [
            "Nithilan S\n",
            "212223240108\n",
            "[17.04289179 33.51695377 74.21757747 26.73351648 59.68164043 39.33132858\n",
            " 20.91914167 78.09382734 69.37226512]\n"
          ]
        }
      ],
      "source": [
        "#displaying predicted values\n",
        "print(\"Nithilan S\")\n",
        "print(\"212223240108\")\n",
        "print(y_pred)"
      ]
    },
    {
      "cell_type": "code",
      "execution_count": 7,
      "metadata": {
        "id": "Hi3s-O9S_vJw",
        "colab": {
          "base_uri": "https://localhost:8080/"
        },
        "outputId": "a96fff9a-7856-4263-e5f2-88ad72e80ce3"
      },
      "outputs": [
        {
          "output_type": "stream",
          "name": "stdout",
          "text": [
            "Nithilan S\n",
            "212223240108\n"
          ]
        },
        {
          "output_type": "execute_result",
          "data": {
            "text/plain": [
              "array([20, 27, 69, 30, 62, 35, 24, 86, 76])"
            ]
          },
          "metadata": {},
          "execution_count": 7
        }
      ],
      "source": [
        "#displaying actual values\n",
        "print(\"Nithilan S\")\n",
        "print(\"212223240108\")\n",
        "y_test"
      ]
    },
    {
      "cell_type": "code",
      "execution_count": 8,
      "metadata": {
        "id": "TeHp-BvK_vJx",
        "colab": {
          "base_uri": "https://localhost:8080/",
          "height": 507
        },
        "outputId": "268ecdfc-190d-4a11-ebd3-c8f3c9295d6c"
      },
      "outputs": [
        {
          "output_type": "stream",
          "name": "stdout",
          "text": [
            "Nithilan S\n",
            "212223240108\n"
          ]
        },
        {
          "output_type": "display_data",
          "data": {
            "text/plain": [
              "<Figure size 640x480 with 1 Axes>"
            ],
            "image/png": "[encoded data removed]"
          },
          "metadata": {}
        }
      ],
      "source": [
        "#graph plot for training data\n",
        "print(\"Nithilan S\")\n",
        "print(\"212223240108\")\n",
        "plt.scatter(x_train,y_train,color='black')\n",
        "plt.plot(x_train,regressor.predict(x_train),color='purple')\n",
        "plt.title(\"Hours vs Scores(Training set)\")\n",
        "plt.xlabel(\"Hours\")\n",
        "plt.ylabel(\"Scores\")\n",
        "plt.show()\n"
      ]
    },
    {
      "cell_type": "code",
      "execution_count": 9,
      "metadata": {
        "id": "3BcHf6wQ_vJx",
        "colab": {
          "base_uri": "https://localhost:8080/",
          "height": 507
        },
        "outputId": "11c9b968-37e7-43ac-c92d-43fcc80f72a3"
      },
      "outputs": [
        {
          "output_type": "stream",
          "name": "stdout",
          "text": [
            "Nithilan S\n",
            "212223240108\n"
          ]
        },
        {
          "output_type": "display_data",
          "data": {
            "text/plain": [
              "<Figure size 640x480 with 1 Axes>"
            ],
            "image/png": "[encoded data removed]"
          },
          "metadata": {}
        }
      ],
      "source": [
        "#Graph plot for test data\n",
        "print(\"Nithilan S\")\n",
        "print(\"212223240108\")\n",
        "plt.scatter(x_test,y_test,color='red')\n",
        "plt.plot(x_train,regressor.predict(x_train),color='blue')\n",
        "plt.title(\"Hours vs Scores(Testing set)\")\n",
        "plt.xlabel(\"Hours\")\n",
        "plt.ylabel(\"Scores\")\n",
        "plt.show()"
      ]
    },
    {
      "cell_type": "code",
      "execution_count": 10,
      "metadata": {
        "id": "CYfFnkhH_vJx",
        "colab": {
          "base_uri": "https://localhost:8080/"
        },
        "outputId": "525ae5bc-8df4-4296-9253-5dada0e6b5cc"
      },
      "outputs": [
        {
          "output_type": "stream",
          "name": "stdout",
          "text": [
            "Nithilan S\n",
            "212223240108\n",
            "MSE =  4.691397441397446\n",
            "MAE =  4.691397441397446\n",
            "RMSE=  2.165963397981934\n"
          ]
        }
      ],
      "source": [
        "#find mae,mse,rmse\n",
        "print(\"Nithilan S\")\n",
        "print(\"212223240108\")\n",
        "mse=mean_absolute_error(y_test,y_pred)\n",
        "print('MSE = ',mse)\n",
        "mae=mean_absolute_error(y_test,y_pred)\n",
        "print('MAE = ',mae)\n",
        "rmse=np.sqrt(mse)\n",
        "print(\"RMSE= \",rmse)"
      ]
    },
    {
      "cell_type": "code",
      "source": [],
      "metadata": {
        "id": "DO1U4CQjmPfn"
      },
      "execution_count": null,
      "outputs": []
    }
  ],
  "metadata": {
    "language_info": {
      "name": "python"
    },
    "colab": {
      "provenance": []
    },
    "kernelspec": {
      "name": "python3",
      "display_name": "Python 3"
    }
  },
  "nbformat": 4,
  "nbformat_minor": 0
}